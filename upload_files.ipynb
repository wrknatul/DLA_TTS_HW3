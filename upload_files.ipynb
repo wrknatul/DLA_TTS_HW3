{
 "cells": [
  {
   "cell_type": "code",
   "execution_count": 2,
   "metadata": {},
   "outputs": [
    {
     "name": "stdout",
     "output_type": "stream",
     "text": [
      "Requirement already satisfied: torchaudio in /home/maxim/.pyenv/versions/3.11.5/lib/python3.11/site-packages (2.1.0)\n",
      "Requirement already satisfied: torch==2.1.0 in /home/maxim/.pyenv/versions/3.11.5/lib/python3.11/site-packages (from torchaudio) (2.1.0)\n",
      "Requirement already satisfied: filelock in /home/maxim/.pyenv/versions/3.11.5/lib/python3.11/site-packages (from torch==2.1.0->torchaudio) (3.12.4)\n",
      "Requirement already satisfied: typing-extensions in /home/maxim/.pyenv/versions/3.11.5/lib/python3.11/site-packages (from torch==2.1.0->torchaudio) (4.8.0)\n",
      "Requirement already satisfied: sympy in /home/maxim/.pyenv/versions/3.11.5/lib/python3.11/site-packages (from torch==2.1.0->torchaudio) (1.12)\n",
      "Requirement already satisfied: networkx in /home/maxim/.pyenv/versions/3.11.5/lib/python3.11/site-packages (from torch==2.1.0->torchaudio) (3.2)\n",
      "Requirement already satisfied: jinja2 in /home/maxim/.pyenv/versions/3.11.5/lib/python3.11/site-packages (from torch==2.1.0->torchaudio) (3.1.2)\n",
      "Requirement already satisfied: fsspec in /home/maxim/.pyenv/versions/3.11.5/lib/python3.11/site-packages (from torch==2.1.0->torchaudio) (2023.10.0)\n",
      "Requirement already satisfied: nvidia-cuda-nvrtc-cu12==12.1.105 in /home/maxim/.pyenv/versions/3.11.5/lib/python3.11/site-packages (from torch==2.1.0->torchaudio) (12.1.105)\n",
      "Requirement already satisfied: nvidia-cuda-runtime-cu12==12.1.105 in /home/maxim/.pyenv/versions/3.11.5/lib/python3.11/site-packages (from torch==2.1.0->torchaudio) (12.1.105)\n",
      "Requirement already satisfied: nvidia-cuda-cupti-cu12==12.1.105 in /home/maxim/.pyenv/versions/3.11.5/lib/python3.11/site-packages (from torch==2.1.0->torchaudio) (12.1.105)\n",
      "Requirement already satisfied: nvidia-cudnn-cu12==8.9.2.26 in /home/maxim/.pyenv/versions/3.11.5/lib/python3.11/site-packages (from torch==2.1.0->torchaudio) (8.9.2.26)\n",
      "Requirement already satisfied: nvidia-cublas-cu12==12.1.3.1 in /home/maxim/.pyenv/versions/3.11.5/lib/python3.11/site-packages (from torch==2.1.0->torchaudio) (12.1.3.1)\n",
      "Requirement already satisfied: nvidia-cufft-cu12==11.0.2.54 in /home/maxim/.pyenv/versions/3.11.5/lib/python3.11/site-packages (from torch==2.1.0->torchaudio) (11.0.2.54)\n",
      "Requirement already satisfied: nvidia-curand-cu12==10.3.2.106 in /home/maxim/.pyenv/versions/3.11.5/lib/python3.11/site-packages (from torch==2.1.0->torchaudio) (10.3.2.106)\n",
      "Requirement already satisfied: nvidia-cusolver-cu12==11.4.5.107 in /home/maxim/.pyenv/versions/3.11.5/lib/python3.11/site-packages (from torch==2.1.0->torchaudio) (11.4.5.107)\n",
      "Requirement already satisfied: nvidia-cusparse-cu12==12.1.0.106 in /home/maxim/.pyenv/versions/3.11.5/lib/python3.11/site-packages (from torch==2.1.0->torchaudio) (12.1.0.106)\n",
      "Requirement already satisfied: nvidia-nccl-cu12==2.18.1 in /home/maxim/.pyenv/versions/3.11.5/lib/python3.11/site-packages (from torch==2.1.0->torchaudio) (2.18.1)\n",
      "Requirement already satisfied: nvidia-nvtx-cu12==12.1.105 in /home/maxim/.pyenv/versions/3.11.5/lib/python3.11/site-packages (from torch==2.1.0->torchaudio) (12.1.105)\n",
      "Requirement already satisfied: triton==2.1.0 in /home/maxim/.pyenv/versions/3.11.5/lib/python3.11/site-packages (from torch==2.1.0->torchaudio) (2.1.0)\n",
      "Requirement already satisfied: nvidia-nvjitlink-cu12 in /home/maxim/.pyenv/versions/3.11.5/lib/python3.11/site-packages (from nvidia-cusolver-cu12==11.4.5.107->torch==2.1.0->torchaudio) (12.3.52)\n",
      "Requirement already satisfied: MarkupSafe>=2.0 in /home/maxim/.pyenv/versions/3.11.5/lib/python3.11/site-packages (from jinja2->torch==2.1.0->torchaudio) (2.1.3)\n",
      "Requirement already satisfied: mpmath>=0.19 in /home/maxim/.pyenv/versions/3.11.5/lib/python3.11/site-packages (from sympy->torch==2.1.0->torchaudio) (1.3.0)\n",
      "Requirement already satisfied: gdown in /home/maxim/.pyenv/versions/3.11.5/lib/python3.11/site-packages (4.7.1)\n",
      "Requirement already satisfied: filelock in /home/maxim/.pyenv/versions/3.11.5/lib/python3.11/site-packages (from gdown) (3.12.4)\n",
      "Requirement already satisfied: requests[socks] in /home/maxim/.pyenv/versions/3.11.5/lib/python3.11/site-packages (from gdown) (2.31.0)\n",
      "Requirement already satisfied: six in /home/maxim/.pyenv/versions/3.11.5/lib/python3.11/site-packages (from gdown) (1.16.0)\n",
      "Requirement already satisfied: tqdm in /home/maxim/.pyenv/versions/3.11.5/lib/python3.11/site-packages (from gdown) (4.66.1)\n",
      "Requirement already satisfied: beautifulsoup4 in /home/maxim/.pyenv/versions/3.11.5/lib/python3.11/site-packages (from gdown) (4.12.2)\n",
      "Requirement already satisfied: soupsieve>1.2 in /home/maxim/.pyenv/versions/3.11.5/lib/python3.11/site-packages (from beautifulsoup4->gdown) (2.5)\n",
      "Requirement already satisfied: charset-normalizer<4,>=2 in /home/maxim/.pyenv/versions/3.11.5/lib/python3.11/site-packages (from requests[socks]->gdown) (3.3.2)\n",
      "Requirement already satisfied: idna<4,>=2.5 in /home/maxim/.pyenv/versions/3.11.5/lib/python3.11/site-packages (from requests[socks]->gdown) (3.4)\n",
      "Requirement already satisfied: urllib3<3,>=1.21.1 in /home/maxim/.pyenv/versions/3.11.5/lib/python3.11/site-packages (from requests[socks]->gdown) (2.0.7)\n",
      "Requirement already satisfied: certifi>=2017.4.17 in /home/maxim/.pyenv/versions/3.11.5/lib/python3.11/site-packages (from requests[socks]->gdown) (2023.7.22)\n",
      "Requirement already satisfied: PySocks!=1.5.7,>=1.5.6 in /home/maxim/.pyenv/versions/3.11.5/lib/python3.11/site-packages (from requests[socks]->gdown) (1.7.1)\n",
      "Requirement already satisfied: wandb in /home/maxim/.pyenv/versions/3.11.5/lib/python3.11/site-packages (0.16.0)\n",
      "Requirement already satisfied: Click!=8.0.0,>=7.1 in /home/maxim/.pyenv/versions/3.11.5/lib/python3.11/site-packages (from wandb) (8.1.7)\n",
      "Requirement already satisfied: GitPython!=3.1.29,>=1.0.0 in /home/maxim/.pyenv/versions/3.11.5/lib/python3.11/site-packages (from wandb) (3.1.40)\n",
      "Requirement already satisfied: requests<3,>=2.0.0 in /home/maxim/.pyenv/versions/3.11.5/lib/python3.11/site-packages (from wandb) (2.31.0)\n",
      "Requirement already satisfied: psutil>=5.0.0 in /home/maxim/.pyenv/versions/3.11.5/lib/python3.11/site-packages (from wandb) (5.9.6)\n",
      "Requirement already satisfied: sentry-sdk>=1.0.0 in /home/maxim/.pyenv/versions/3.11.5/lib/python3.11/site-packages (from wandb) (1.34.0)\n",
      "Requirement already satisfied: docker-pycreds>=0.4.0 in /home/maxim/.pyenv/versions/3.11.5/lib/python3.11/site-packages (from wandb) (0.4.0)\n",
      "Requirement already satisfied: PyYAML in /home/maxim/.pyenv/versions/3.11.5/lib/python3.11/site-packages (from wandb) (6.0.1)\n",
      "Requirement already satisfied: setproctitle in /home/maxim/.pyenv/versions/3.11.5/lib/python3.11/site-packages (from wandb) (1.3.3)\n",
      "Requirement already satisfied: setuptools in /home/maxim/.pyenv/versions/3.11.5/lib/python3.11/site-packages (from wandb) (65.5.0)\n",
      "Requirement already satisfied: appdirs>=1.4.3 in /home/maxim/.pyenv/versions/3.11.5/lib/python3.11/site-packages (from wandb) (1.4.4)\n",
      "Requirement already satisfied: protobuf!=4.21.0,<5,>=3.19.0 in /home/maxim/.pyenv/versions/3.11.5/lib/python3.11/site-packages (from wandb) (3.20.3)\n",
      "Requirement already satisfied: six>=1.4.0 in /home/maxim/.pyenv/versions/3.11.5/lib/python3.11/site-packages (from docker-pycreds>=0.4.0->wandb) (1.16.0)\n",
      "Requirement already satisfied: gitdb<5,>=4.0.1 in /home/maxim/.pyenv/versions/3.11.5/lib/python3.11/site-packages (from GitPython!=3.1.29,>=1.0.0->wandb) (4.0.11)\n",
      "Requirement already satisfied: charset-normalizer<4,>=2 in /home/maxim/.pyenv/versions/3.11.5/lib/python3.11/site-packages (from requests<3,>=2.0.0->wandb) (3.3.2)\n",
      "Requirement already satisfied: idna<4,>=2.5 in /home/maxim/.pyenv/versions/3.11.5/lib/python3.11/site-packages (from requests<3,>=2.0.0->wandb) (3.4)\n",
      "Requirement already satisfied: urllib3<3,>=1.21.1 in /home/maxim/.pyenv/versions/3.11.5/lib/python3.11/site-packages (from requests<3,>=2.0.0->wandb) (2.0.7)\n",
      "Requirement already satisfied: certifi>=2017.4.17 in /home/maxim/.pyenv/versions/3.11.5/lib/python3.11/site-packages (from requests<3,>=2.0.0->wandb) (2023.7.22)\n",
      "Requirement already satisfied: smmap<6,>=3.0.1 in /home/maxim/.pyenv/versions/3.11.5/lib/python3.11/site-packages (from gitdb<5,>=4.0.1->GitPython!=3.1.29,>=1.0.0->wandb) (5.0.1)\n",
      "Requirement already satisfied: gdown in /home/maxim/.pyenv/versions/3.11.5/lib/python3.11/site-packages (4.7.1)\n",
      "Requirement already satisfied: filelock in /home/maxim/.pyenv/versions/3.11.5/lib/python3.11/site-packages (from gdown) (3.12.4)\n",
      "Requirement already satisfied: requests[socks] in /home/maxim/.pyenv/versions/3.11.5/lib/python3.11/site-packages (from gdown) (2.31.0)\n",
      "Requirement already satisfied: six in /home/maxim/.pyenv/versions/3.11.5/lib/python3.11/site-packages (from gdown) (1.16.0)\n",
      "Requirement already satisfied: tqdm in /home/maxim/.pyenv/versions/3.11.5/lib/python3.11/site-packages (from gdown) (4.66.1)\n",
      "Requirement already satisfied: beautifulsoup4 in /home/maxim/.pyenv/versions/3.11.5/lib/python3.11/site-packages (from gdown) (4.12.2)\n",
      "Requirement already satisfied: soupsieve>1.2 in /home/maxim/.pyenv/versions/3.11.5/lib/python3.11/site-packages (from beautifulsoup4->gdown) (2.5)\n",
      "Requirement already satisfied: charset-normalizer<4,>=2 in /home/maxim/.pyenv/versions/3.11.5/lib/python3.11/site-packages (from requests[socks]->gdown) (3.3.2)\n",
      "Requirement already satisfied: idna<4,>=2.5 in /home/maxim/.pyenv/versions/3.11.5/lib/python3.11/site-packages (from requests[socks]->gdown) (3.4)\n",
      "Requirement already satisfied: urllib3<3,>=1.21.1 in /home/maxim/.pyenv/versions/3.11.5/lib/python3.11/site-packages (from requests[socks]->gdown) (2.0.7)\n",
      "Requirement already satisfied: certifi>=2017.4.17 in /home/maxim/.pyenv/versions/3.11.5/lib/python3.11/site-packages (from requests[socks]->gdown) (2023.7.22)\n",
      "Requirement already satisfied: PySocks!=1.5.7,>=1.5.6 in /home/maxim/.pyenv/versions/3.11.5/lib/python3.11/site-packages (from requests[socks]->gdown) (1.7.1)\n"
     ]
    }
   ],
   "source": [
    "%%bash\n",
    "#install libraries\n",
    "pip install torchaudio\n",
    "pip install wandb\n",
    "pip install gdown\n",
    "\n",
    "#download LjSpeech\n",
    "wget https://data.keithito.com/data/speech/LJSpeech-1.1.tar.bz2 -o /dev/null\n",
    "mkdir data\n",
    "tar -xvf LJSpeech-1.1.tar.bz2 >> /dev/null\n",
    "mv LJSpeech-1.1 data/LJSpeech-1.1\n",
    "rm LJSpeech-1.1.tar.bz2\n",
    "\n",
    "gdown https://drive.google.com/u/0/uc?id=1-EdH0t0loc6vPiuVtXdhsDtzygWNSNZx\n",
    "mv train.txt data/\n",
    "\n",
    "#download Waveglow\n",
    "gdown https://drive.google.com/u/0/uc?id=1WsibBTsuRg_SF2Z6L6NFRTT-NjEy1oTx\n",
    "mkdir -p waveglow/pretrained_model/\n",
    "mv waveglow_256channels_ljs_v2.pt hw_tts/waveglow/pretrained_model/waveglow_256channels.pt\n",
    "\n",
    "gdown https://drive.google.com/u/0/uc?id=1cJKJTmYd905a-9GFoo5gKjzhKjUVj83j\n",
    "tar -xvf mel.tar.gz\n",
    "echo $(ls mels | wc -l)\n",
    "\n",
    "#download alignments\n",
    "wget https://github.com/xcmyz/FastSpeech/raw/master/alignments.zip\n",
    "unzip alignments.zip >> /dev/null\n",
    "\n",
    "# we will use waveglow code, data and audio preprocessing from this repo\n",
    "git clone https://github.com/xcmyz/FastSpeech.git\n",
    "mv FastSpeech/text .\n",
    "mv FastSpeech/audio .\n",
    "mv FastSpeech/waveglow/* waveglow/\n",
    "mv FastSpeech/utils.py .\n",
    "mv FastSpeech/glow.py .\n"
   ]
  },
  {
   "cell_type": "code",
   "execution_count": 7,
   "metadata": {},
   "outputs": [
    {
     "name": "stderr",
     "output_type": "stream",
     "text": [
      "/home/maxim/.pyenv/versions/3.11.5/lib/python3.11/site-packages/gdown/parse_url.py:44: UserWarning: You specified a Google Drive link that is not the correct link to download a file. You might want to try `--fuzzy` option or the following url: https://drive.google.com/uc?id=None\n",
      "  warnings.warn(\n",
      "Downloading...\n",
      "From: https://drive.google.com/file/d/1WsibBTsuRg_SF2Z6L6NFRTT-NjEy1oTx\n",
      "To: /home/maxim/Documents/hw3_tts/mel.tar.gz\n",
      "83.8kB [00:00, 77.8MB/s]\n"
     ]
    },
    {
     "ename": "ReadError",
     "evalue": "file could not be opened successfully:\n- method gz: ReadError('not a gzip file')\n- method bz2: ReadError('not a bzip2 file')\n- method xz: ReadError('not an lzma file')\n- method tar: ReadError('invalid header')",
     "output_type": "error",
     "traceback": [
      "\u001b[0;31m---------------------------------------------------------------------------\u001b[0m",
      "\u001b[0;31mReadError\u001b[0m                                 Traceback (most recent call last)",
      "\u001b[1;32m/home/maxim/Documents/hw3_tts/upload_files.ipynb Cell 2\u001b[0m line \u001b[0;36m6\n\u001b[1;32m      <a href='vscode-notebook-cell:/home/maxim/Documents/hw3_tts/upload_files.ipynb#W1sZmlsZQ%3D%3D?line=3'>4</a>\u001b[0m output \u001b[39m=\u001b[39m \u001b[39m\"\u001b[39m\u001b[39mmel.tar.gz\u001b[39m\u001b[39m\"\u001b[39m\n\u001b[1;32m      <a href='vscode-notebook-cell:/home/maxim/Documents/hw3_tts/upload_files.ipynb#W1sZmlsZQ%3D%3D?line=4'>5</a>\u001b[0m gdown\u001b[39m.\u001b[39mdownload(url, output, quiet\u001b[39m=\u001b[39m\u001b[39mFalse\u001b[39;00m)\n\u001b[0;32m----> <a href='vscode-notebook-cell:/home/maxim/Documents/hw3_tts/upload_files.ipynb#W1sZmlsZQ%3D%3D?line=5'>6</a>\u001b[0m tar \u001b[39m=\u001b[39m tarfile\u001b[39m.\u001b[39;49mopen(output)\n\u001b[1;32m      <a href='vscode-notebook-cell:/home/maxim/Documents/hw3_tts/upload_files.ipynb#W1sZmlsZQ%3D%3D?line=6'>7</a>\u001b[0m tar\u001b[39m.\u001b[39mextractall()\n\u001b[1;32m      <a href='vscode-notebook-cell:/home/maxim/Documents/hw3_tts/upload_files.ipynb#W1sZmlsZQ%3D%3D?line=7'>8</a>\u001b[0m tar\u001b[39m.\u001b[39mclose()\n",
      "File \u001b[0;32m~/.pyenv/versions/3.11.5/lib/python3.11/tarfile.py:1811\u001b[0m, in \u001b[0;36mTarFile.open\u001b[0;34m(cls, name, mode, fileobj, bufsize, **kwargs)\u001b[0m\n\u001b[1;32m   1809\u001b[0m             \u001b[39mcontinue\u001b[39;00m\n\u001b[1;32m   1810\u001b[0m     error_msgs_summary \u001b[39m=\u001b[39m \u001b[39m'\u001b[39m\u001b[39m\\n\u001b[39;00m\u001b[39m'\u001b[39m\u001b[39m.\u001b[39mjoin(error_msgs)\n\u001b[0;32m-> 1811\u001b[0m     \u001b[39mraise\u001b[39;00m ReadError(\u001b[39mf\u001b[39m\u001b[39m\"\u001b[39m\u001b[39mfile could not be opened successfully:\u001b[39m\u001b[39m\\n\u001b[39;00m\u001b[39m{\u001b[39;00merror_msgs_summary\u001b[39m}\u001b[39;00m\u001b[39m\"\u001b[39m)\n\u001b[1;32m   1813\u001b[0m \u001b[39melif\u001b[39;00m \u001b[39m\"\u001b[39m\u001b[39m:\u001b[39m\u001b[39m\"\u001b[39m \u001b[39min\u001b[39;00m mode:\n\u001b[1;32m   1814\u001b[0m     filemode, comptype \u001b[39m=\u001b[39m mode\u001b[39m.\u001b[39msplit(\u001b[39m\"\u001b[39m\u001b[39m:\u001b[39m\u001b[39m\"\u001b[39m, \u001b[39m1\u001b[39m)\n",
      "\u001b[0;31mReadError\u001b[0m: file could not be opened successfully:\n- method gz: ReadError('not a gzip file')\n- method bz2: ReadError('not a bzip2 file')\n- method xz: ReadError('not an lzma file')\n- method tar: ReadError('invalid header')"
     ]
    }
   ],
   "source": [
    "import gdown\n",
    "import tarfile\n",
    "url = \"https://drive.google.com/file/d/1WsibBTsuRg_SF2Z6L6NFRTT-NjEy1oTx\"\n",
    "output = \"mel.tar.gz\"\n",
    "gdown.download(url, output, quiet=False)\n",
    "tar = tarfile.open(output)\n",
    "tar.extractall()\n",
    "tar.close()"
   ]
  },
  {
   "cell_type": "code",
   "execution_count": 8,
   "metadata": {},
   "outputs": [
    {
     "name": "stderr",
     "output_type": "stream",
     "text": [
      "Downloading...\n",
      "From (uriginal): https://drive.google.com/u/0/uc?id=1WsibBTsuRg_SF2Z6L6NFRTT-NjEy1oTx\n",
      "From (redirected): https://drive.google.com/uc?id=1WsibBTsuRg_SF2Z6L6NFRTT-NjEy1oTx&confirm=t&uuid=156c7895-d10b-4a52-bfe5-a8fa885a85c3\n",
      "To: /home/maxim/Documents/hw3_tts/waveglow_256channels_ljs_v2.pt\n",
      "100%|██████████| 676M/676M [00:41<00:00, 16.5MB/s] \n"
     ]
    }
   ],
   "source": [
    "%%bash\n",
    "\n",
    "#download Waveglow\n",
    "gdown https://drive.google.com/u/0/uc?id=1WsibBTsuRg_SF2Z6L6NFRTT-NjEy1oTx\n",
    "mkdir -p waveglow/pretrained_model/\n",
    "mv waveglow_256channels_ljs_v2.pt hw_tts/waveglow/pretrained_model/waveglow_256channels.pt"
   ]
  }
 ],
 "metadata": {
  "kernelspec": {
   "display_name": "Python 3",
   "language": "python",
   "name": "python3"
  },
  "language_info": {
   "codemirror_mode": {
    "name": "ipython",
    "version": 3
   },
   "file_extension": ".py",
   "mimetype": "text/x-python",
   "name": "python",
   "nbconvert_exporter": "python",
   "pygments_lexer": "ipython3",
   "version": "3.11.5"
  }
 },
 "nbformat": 4,
 "nbformat_minor": 2
}
